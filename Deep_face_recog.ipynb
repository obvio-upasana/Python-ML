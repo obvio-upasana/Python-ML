{
  "nbformat": 4,
  "nbformat_minor": 0,
  "metadata": {
    "colab": {
      "provenance": [],
      "private_outputs": true,
      "authorship_tag": "ABX9TyOuzanvF7rwF8sqD02lMtiV",
      "include_colab_link": true
    },
    "kernelspec": {
      "name": "python3",
      "display_name": "Python 3"
    },
    "language_info": {
      "name": "python"
    }
  },
  "cells": [
    {
      "cell_type": "markdown",
      "metadata": {
        "id": "view-in-github",
        "colab_type": "text"
      },
      "source": [
        "<a href=\"https://colab.research.google.com/github/obvio-upasana/Python-ML/blob/main/Deep_face_recog.ipynb\" target=\"_parent\"><img src=\"https://colab.research.google.com/assets/colab-badge.svg\" alt=\"Open In Colab\"/></a>"
      ]
    },
    {
      "cell_type": "markdown",
      "source": [
        "##1. Installing Dependencies"
      ],
      "metadata": {
        "id": "_UQ6hKfJVQkp"
      }
    },
    {
      "cell_type": "code",
      "source": [
        "pip install tensorflow tensorflow.gpu opencv matplotlib"
      ],
      "metadata": {
        "collapsed": true,
        "id": "5X0d_HP8VWGN"
      },
      "execution_count": null,
      "outputs": []
    },
    {
      "cell_type": "markdown",
      "source": [
        "## 2. Importing Dependencies"
      ],
      "metadata": {
        "id": "5Japblml0yhm"
      }
    },
    {
      "cell_type": "code",
      "source": [
        "import cv2\n",
        "import os\n",
        "import random\n",
        "import numpy as np\n",
        "import matplotlib.pyplot as plt"
      ],
      "metadata": {
        "id": "YWm3QHjLV4hf"
      },
      "execution_count": null,
      "outputs": []
    }
  ]
}