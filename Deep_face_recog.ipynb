##1. Installing Dependencies
# pip install tensorflow tensorflow.gpu opencv matplotlib

